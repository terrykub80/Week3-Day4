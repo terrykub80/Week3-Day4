{
 "cells": [
  {
   "cell_type": "code",
   "execution_count": 1,
   "metadata": {},
   "outputs": [],
   "source": [
    "from IPython.display import clear_output"
   ]
  },
  {
   "cell_type": "code",
   "execution_count": 28,
   "metadata": {},
   "outputs": [],
   "source": [
    "class Blog:\n",
    "    def __init__(self):\n",
    "        self.users = set()\n",
    "        self.posts = []\n",
    "        self.current_user = None # attribute used to determine if there is a logged in user\n",
    "\n",
    "    def _get_post_from_id(self, post_id):\n",
    "        for post in self.posts:\n",
    "            if post.id == int(post_id):\n",
    "                return post\n",
    "        \n",
    "    # Method to add new users to the blog\n",
    "    def create_new_user(self):\n",
    "        # Get user info from input\n",
    "        username = input('Please enter a username: ')\n",
    "        # Check if there is a user that already has that username\n",
    "        if username in {u.username for u in self.users}:\n",
    "            print(f\"User with username {username} already exists\")\n",
    "        else:\n",
    "            # Get password\n",
    "            password = input('Please enter a password: ')\n",
    "            # Create a new User instance with info from user input\n",
    "            new_user = User(username, password)\n",
    "            # Add user instance to the blog user set\n",
    "            self.users.add(new_user)\n",
    "            print(f\"{new_user} has been created!\")\n",
    "            \n",
    "    # Method to log a user in\n",
    "    def log_user_in(self):\n",
    "        # Get user credentials\n",
    "        username = input('What is your username? ')\n",
    "        password = input('What is your password? ')\n",
    "        # Loop through each user in the blog\n",
    "        for user in self.users:\n",
    "            # Check is a user has the same username and the password word check passes\n",
    "            if user.username == username and user.check_password(password):\n",
    "                # If user has correct credentials, set the blog's current user to that user instance\n",
    "                self.current_user = user\n",
    "                print(f\"{user} has been logged in\")\n",
    "                break\n",
    "        # If no users in our blog user list have correct username/password, let them know\n",
    "        else:\n",
    "            print('Username and/or Password is incorrect.')\n",
    "                  \n",
    "    # Method to log a user out\n",
    "    def log_user_out(self):\n",
    "        # Change the current_user attribute from the user to None\n",
    "        self.current_user = None\n",
    "        print('You have successfully logged out')\n",
    "        \n",
    "    # Method to create and add post to blog\n",
    "    def create_post(self):\n",
    "        # Check to make sure the user is logged in before creating post\n",
    "        if self.current_user is not None:\n",
    "            # Get the title and body from user input\n",
    "            title = input('Enter the title of your post: ').title()\n",
    "            body = input('Enter the body of your post: ')\n",
    "            # Create a new Post instance with user input\n",
    "            new_post = Post(title, body, self.current_user)\n",
    "            # Add the new post to the blog's list of posts\n",
    "            self.posts.append(new_post)\n",
    "            print(f\"{new_post.title} has been created!\")\n",
    "        else:\n",
    "            print(\"You must be logged in to perform this action\")\n",
    "\n",
    "    # Method to view all posts in the blog\n",
    "    def view_posts(self):\n",
    "        # Check to see if there are any posts\n",
    "        if self.posts:\n",
    "            # Loop through all of the posts\n",
    "            for post in self.posts:\n",
    "                # Display the post via print\n",
    "                print(post)\n",
    "        else:\n",
    "            print(\"There are currently no posts for this blog :(\")\n",
    "\n",
    "    # Method to view a single post by its ID\n",
    "    def view_post(self, post_id):\n",
    "        post = self._get_post_from_id(post_id)\n",
    "        if post:\n",
    "            print(post)\n",
    "        else:\n",
    "            print(f\"Post with an ID of {post_id} does not exist\")\n",
    "\n",
    "\n",
    "    # Method to edit a single post\n",
    "    def edit_post(self, post_id):\n",
    "        post = self._get_post_from_id(post_id)\n",
    "        if post:\n",
    "            # Check that the user is logged in AND that the logged in user is the owner of this post\n",
    "            if self.current_user is not None and self.current_user == post.author:\n",
    "                print(post)\n",
    "                # Ask the user which part of the post they would like to edit\n",
    "                edit_part = input(\"Would you like to edit the title, body, both, or exit? \").lower()\n",
    "                # Make sure the user response is valid\n",
    "                while edit_part not in {'title', 'body', 'both', 'exit'}:\n",
    "                    edit_part = input(\"Invalid. Please choose title, body, both, or exit\")\n",
    "                # if the user puts exit, exit the function\n",
    "                if edit_part == 'exit':\n",
    "                    return\n",
    "                elif edit_part == 'both':\n",
    "                    # Get a new title and body\n",
    "                    new_title = input('Enter the new title: ').title()\n",
    "                    new_body = input('Enter the new body: ')\n",
    "                    # Edit the post with the post.update method\n",
    "                    post.update(title=new_title, body=new_body)\n",
    "                elif edit_part == 'title':\n",
    "                     # Get a new title\n",
    "                    new_title = input('Enter the new title: ').title()\n",
    "                    post.update(title=new_title)\n",
    "                elif edit_part == 'body':\n",
    "                    # Get a new body\n",
    "                    new_body = input('Enter the new body: ')\n",
    "                    post.update(body=new_body)\n",
    "\n",
    "                print(f\"{post.title} has been updated\")\n",
    "            # If the user is logged in but not the owner of the post\n",
    "            elif self.current_user != post.author:\n",
    "                print(\"You do not have permission to edit this post\") # 403 HTTP Status Code\n",
    "            # If the user is not logged in\n",
    "            else:\n",
    "                print(\"You must be logged in to perform this action\") # 401 HTTP Status Code\n",
    "        else:\n",
    "            print(f\"Post with an ID of {post_id} does not exist\") # 404 HTTP Status Code\n",
    "\n",
    "\n",
    "    # Method to delete a single post\n",
    "    def delete_post(self, post_id):\n",
    "        # Get the post by id or return None\n",
    "        post = self._get_post_from_id(post_id)\n",
    "        # If Post Object\n",
    "        if post:\n",
    "             # Check that the user is logged in AND that the logged in user is the owner of this post\n",
    "            if self.current_user is not None and self.current_user == post.author:\n",
    "                # Remove the post from the blog's list of posts\n",
    "                self.posts.remove(post)\n",
    "                print(f\"{post.title} has been deleted\")\n",
    "            # If the user is logged in but not the owner of the post\n",
    "            elif self.current_user != post.author:\n",
    "                print(\"You do not have permission to delete this post\") # 403 HTTP Status Code\n",
    "            # If the user is not logged in\n",
    "            else:\n",
    "                print(\"You must be logged in to perform this action\") # 401 HTTP Status Code\n",
    "        else:\n",
    "            print(f\"Post with an ID of {post_id} does not exist\") # 404\n",
    "\n",
    "class User:\n",
    "    id_counter = 1 # Class attribute keeping track of User Ids\n",
    "    \n",
    "    def __init__(self, username, password):\n",
    "        self.username = username\n",
    "        self.password = password[::-2]\n",
    "        self.id = User.id_counter\n",
    "        User.id_counter += 1\n",
    "        \n",
    "    def __str__(self):\n",
    "        return self.username\n",
    "    \n",
    "    def __repr__(self):\n",
    "        return f\"<User {self.id}|{self.username}>\"\n",
    "    \n",
    "    def check_password(self, password_guess):\n",
    "        return self.password == password_guess[::-2]\n",
    "\n",
    "\n",
    "class Post:\n",
    "    id_counter = 1\n",
    "    \n",
    "    def __init__(self, title, body, author):\n",
    "        \"\"\"\n",
    "        title: str\n",
    "        body: str\n",
    "        author: User\n",
    "        \"\"\"\n",
    "        self.title = title\n",
    "        self.body = body\n",
    "        self.author = author\n",
    "        self.id = Post.id_counter\n",
    "        Post.id_counter += 1\n",
    "        \n",
    "    def __str__(self):\n",
    "        formatted_post = f\"\"\"\n",
    "        {self.id} - {self.title}\n",
    "        By: {self.author}\n",
    "        {self.body}\n",
    "        \"\"\"\n",
    "        return formatted_post\n",
    "        \n",
    "    def __repr__(self):\n",
    "        return f\"<Post {self.id}|{self.title}>\"\n",
    "\n",
    "    def update(self, **kwargs):\n",
    "        for key, value in kwargs.items():\n",
    "            if key in {'title', 'body'}:\n",
    "                setattr(self, key, value)\n",
    "        \n"
   ]
  },
  {
   "cell_type": "code",
   "execution_count": 29,
   "metadata": {},
   "outputs": [
    {
     "name": "stdout",
     "output_type": "stream",
     "text": [
      "Thanks for checking out the blog!\n"
     ]
    }
   ],
   "source": [
    "# Define a function to run the blog\n",
    "def run_blog():\n",
    "    # Create an instance of the blog\n",
    "    my_blog = Blog()\n",
    "    # Set up fake data\n",
    "    initial_user1 = User('brians', 'abc123')\n",
    "    initial_user2 = User('mj23', 'sixrings')\n",
    "    my_blog.users.add(initial_user1)\n",
    "    my_blog.users.add(initial_user2)\n",
    "    my_blog.posts.append(Post('First Post', 'This is my first post', initial_user1))\n",
    "    my_blog.posts.append(Post('Second Post', 'This is my second post', initial_user2))\n",
    "    # Keep looping while blog is 'running'\n",
    "    while True:\n",
    "        # if there is no current user logged in\n",
    "        if my_blog.current_user is None:\n",
    "            # Print menu options\n",
    "            print(\"1. Sign Up\\n2. Log In\\n3. View All Posts\\n4. View Single Post\\n5. Quit\")\n",
    "            # Ask user which option they would like to do\n",
    "            to_do = input(\"Which option would you like to do? \")\n",
    "            # keep asking if user chooses an invalid option\n",
    "            while to_do not in {'1', '2', '5', '3', '4'}:\n",
    "                to_do = input('Not valid. Please choose 1, 2, 3, 4, or 5 ')\n",
    "            clear_output()\n",
    "            if to_do == '5':\n",
    "                print(\"Thanks for checking out the blog!\")\n",
    "                break\n",
    "            elif to_do == '1':\n",
    "                # method to create a new user\n",
    "                my_blog.create_new_user()\n",
    "            elif to_do == '2':\n",
    "                # method to log a user in\n",
    "                my_blog.log_user_in()\n",
    "            elif to_do == '3':\n",
    "                # method to view all posts\n",
    "                my_blog.view_posts()\n",
    "            elif to_do == '4':\n",
    "                # Get the id of the post\n",
    "                post_id = input('What is the id of the post you would like to view? ')\n",
    "                # Call the view single post method with post_id as an argument\n",
    "                my_blog.view_post(post_id)\n",
    "        # If the current user is not None aka a user is logged in\n",
    "        else:\n",
    "            print(\"1. Log Out\\n2. Create A New Post\\n3. View All Posts\\n4. View Single Post\\n5. Edit A Post\\n6. Delete A Post\")\n",
    "            to_do = input('Which option would you like to choose ')\n",
    "            while to_do not in {'1', '2', '3', '4', '5', '6'}:\n",
    "                to_do = input('Not valid. Please choose 1, 2, 3, 4, 5, or 6 ')\n",
    "            clear_output()\n",
    "            if to_do == '1':\n",
    "                # method to log a user out\n",
    "                my_blog.log_user_out()\n",
    "            elif to_do == '2':\n",
    "                # method to create a new post\n",
    "                my_blog.create_post()\n",
    "            elif to_do == '3':\n",
    "                # method to view all posts\n",
    "                my_blog.view_posts()\n",
    "            elif to_do == '4':\n",
    "                # Get the id of the post\n",
    "                post_id = input('What is the id of the post you would like to view? ')\n",
    "                # Call the view single post method with post_id as an argument\n",
    "                my_blog.view_post(post_id)\n",
    "            elif to_do == '5':\n",
    "                # Get the id of the post that you would like to edit\n",
    "                post_id = input('What is the id of the post you would like to edit? ')\n",
    "                # Call the edit single post method with post_id as an argument\n",
    "                my_blog.edit_post(post_id)\n",
    "            elif to_do == '6':\n",
    "                # Get the id of the post that you would like to delete\n",
    "                post_id = input('What is the id of the post you would like to delete? ')\n",
    "                # Call the delete single post method with post_id as an argument\n",
    "                my_blog.delete_post(post_id)\n",
    "            \n",
    "            \n",
    "run_blog()"
   ]
  },
  {
   "cell_type": "code",
   "execution_count": 6,
   "metadata": {},
   "outputs": [
    {
     "name": "stdout",
     "output_type": "stream",
     "text": [
      "Enter the title of your post: First\n",
      "Enter the body of your post: This is the first\n",
      "First has been created!\n",
      "Enter the title of your post: Second \n",
      "Enter the body of your post: This is the second\n",
      "Second  has been created!\n"
     ]
    }
   ],
   "source": [
    "my_blog = Blog()\n",
    "user = User('abc', 'abc123')\n",
    "my_blog.current_user = user\n",
    "my_blog.create_post()\n",
    "my_blog.create_post()"
   ]
  },
  {
   "cell_type": "code",
   "execution_count": 7,
   "metadata": {},
   "outputs": [
    {
     "data": {
      "text/plain": [
       "[<Post 1|First>, <Post 2|Second >]"
      ]
     },
     "execution_count": 7,
     "metadata": {},
     "output_type": "execute_result"
    }
   ],
   "source": [
    "my_blog.posts"
   ]
  },
  {
   "cell_type": "code",
   "execution_count": 11,
   "metadata": {},
   "outputs": [],
   "source": [
    "my_blog._get_post_from_id(3)"
   ]
  },
  {
   "cell_type": "code",
   "execution_count": 27,
   "metadata": {},
   "outputs": [
    {
     "name": "stdout",
     "output_type": "stream",
     "text": [
      "\n",
      "        1 - Updated First\n",
      "        By: brian\n",
      "        This is the updated body\n",
      "        \n",
      "{'title': 'Updated First', 'body': 'This is the updated body', 'author': <User 10|brian>, 'id': 1}\n"
     ]
    }
   ],
   "source": [
    "class Post:\n",
    "    id_counter = 1\n",
    "    \n",
    "    def __init__(self, title, body, author):\n",
    "        \"\"\"\n",
    "        title: str\n",
    "        body: str\n",
    "        author: User\n",
    "        \"\"\"\n",
    "        self.title = title\n",
    "        self.body = body\n",
    "        self.author = author\n",
    "        self.id = Post.id_counter\n",
    "        Post.id_counter += 1\n",
    "        \n",
    "    def __str__(self):\n",
    "        formatted_post = f\"\"\"\n",
    "        {self.id} - {self.title}\n",
    "        By: {self.author}\n",
    "        {self.body}\n",
    "        \"\"\"\n",
    "        return formatted_post\n",
    "        \n",
    "    def __repr__(self):\n",
    "        return f\"<Post {self.id}|{self.title}>\"\n",
    "    \n",
    "    \n",
    "    def update(self, **kwargs):\n",
    "        for key, value in kwargs.items():\n",
    "            if key in {'title', 'body'}:\n",
    "                setattr(self, key, value)\n",
    "        \n",
    "user = User('brian', 'abc123')        \n",
    "post = Post('First', 'This is the first post', user)\n",
    "post.update(title='Updated First', body='This is the updated body', x=10)\n",
    "print(post)\n",
    "print(post.__dict__)"
   ]
  },
  {
   "cell_type": "code",
   "execution_count": 19,
   "metadata": {
    "scrolled": true
   },
   "outputs": [
    {
     "name": "stdout",
     "output_type": "stream",
     "text": [
      "Help on built-in function setattr in module builtins:\n",
      "\n",
      "setattr(obj, name, value, /)\n",
      "    Sets the named attribute on the given object to the specified value.\n",
      "    \n",
      "    setattr(x, 'y', v) is equivalent to ``x.y = v''\n",
      "\n"
     ]
    }
   ],
   "source": [
    "help(setattr)"
   ]
  },
  {
   "cell_type": "code",
   "execution_count": 20,
   "metadata": {},
   "outputs": [
    {
     "name": "stdout",
     "output_type": "stream",
     "text": [
      "Test\n"
     ]
    }
   ],
   "source": [
    "class Test:\n",
    "    pass\n",
    "\n",
    "test1 = Test()\n",
    "\n",
    "test1.name = 'Test'\n",
    "print(test1.name)"
   ]
  },
  {
   "cell_type": "code",
   "execution_count": 22,
   "metadata": {},
   "outputs": [
    {
     "name": "stdout",
     "output_type": "stream",
     "text": [
      "{'attr': 'Test'}\n"
     ]
    }
   ],
   "source": [
    "test2 = Test()\n",
    "attr = 'name'\n",
    "val = 'Test'\n",
    "test2.attr = val\n",
    "print(test2.__dict__)"
   ]
  },
  {
   "cell_type": "code",
   "execution_count": 23,
   "metadata": {},
   "outputs": [
    {
     "name": "stdout",
     "output_type": "stream",
     "text": [
      "{'attr': 'Test', 'name': 'Test'}\n"
     ]
    }
   ],
   "source": [
    "setattr(test2, attr, val)\n",
    "print(test2.__dict__)"
   ]
  },
  {
   "cell_type": "code",
   "execution_count": null,
   "metadata": {},
   "outputs": [],
   "source": []
  }
 ],
 "metadata": {
  "kernelspec": {
   "display_name": "Python 3 (ipykernel)",
   "language": "python",
   "name": "python3"
  },
  "language_info": {
   "codemirror_mode": {
    "name": "ipython",
    "version": 3
   },
   "file_extension": ".py",
   "mimetype": "text/x-python",
   "name": "python",
   "nbconvert_exporter": "python",
   "pygments_lexer": "ipython3",
   "version": "3.9.12"
  }
 },
 "nbformat": 4,
 "nbformat_minor": 4
}
